{
 "cells": [
  {
   "cell_type": "code",
   "execution_count": 2,
   "metadata": {},
   "outputs": [],
   "source": [
    "import pandas as pd"
   ]
  },
  {
   "cell_type": "code",
   "execution_count": 3,
   "metadata": {},
   "outputs": [],
   "source": [
    "file_path = \"C:/Users/sunny/Desktop/ABC/gencode.v22.annotation.gtf\"\n",
    "gene_annotation = pd.read_csv(file_path, skiprows=5, header=None, sep= \"\\t\")"
   ]
  },
  {
   "cell_type": "code",
   "execution_count": 4,
   "metadata": {},
   "outputs": [
    {
     "data": {
      "text/html": [
       "<div>\n",
       "<style scoped>\n",
       "    .dataframe tbody tr th:only-of-type {\n",
       "        vertical-align: middle;\n",
       "    }\n",
       "\n",
       "    .dataframe tbody tr th {\n",
       "        vertical-align: top;\n",
       "    }\n",
       "\n",
       "    .dataframe thead th {\n",
       "        text-align: right;\n",
       "    }\n",
       "</style>\n",
       "<table border=\"1\" class=\"dataframe\">\n",
       "  <thead>\n",
       "    <tr style=\"text-align: right;\">\n",
       "      <th></th>\n",
       "      <th>0</th>\n",
       "      <th>1</th>\n",
       "      <th>2</th>\n",
       "      <th>3</th>\n",
       "      <th>4</th>\n",
       "      <th>5</th>\n",
       "      <th>6</th>\n",
       "      <th>7</th>\n",
       "      <th>8</th>\n",
       "    </tr>\n",
       "  </thead>\n",
       "  <tbody>\n",
       "    <tr>\n",
       "      <th>0</th>\n",
       "      <td>chr1</td>\n",
       "      <td>HAVANA</td>\n",
       "      <td>gene</td>\n",
       "      <td>11869</td>\n",
       "      <td>14409</td>\n",
       "      <td>.</td>\n",
       "      <td>+</td>\n",
       "      <td>.</td>\n",
       "      <td>gene_id \"ENSG00000223972.5\"; gene_type \"transc...</td>\n",
       "    </tr>\n",
       "    <tr>\n",
       "      <th>1</th>\n",
       "      <td>chr1</td>\n",
       "      <td>HAVANA</td>\n",
       "      <td>transcript</td>\n",
       "      <td>11869</td>\n",
       "      <td>14409</td>\n",
       "      <td>.</td>\n",
       "      <td>+</td>\n",
       "      <td>.</td>\n",
       "      <td>gene_id \"ENSG00000223972.5\"; transcript_id \"EN...</td>\n",
       "    </tr>\n",
       "    <tr>\n",
       "      <th>2</th>\n",
       "      <td>chr1</td>\n",
       "      <td>HAVANA</td>\n",
       "      <td>exon</td>\n",
       "      <td>11869</td>\n",
       "      <td>12227</td>\n",
       "      <td>.</td>\n",
       "      <td>+</td>\n",
       "      <td>.</td>\n",
       "      <td>gene_id \"ENSG00000223972.5\"; transcript_id \"EN...</td>\n",
       "    </tr>\n",
       "    <tr>\n",
       "      <th>3</th>\n",
       "      <td>chr1</td>\n",
       "      <td>HAVANA</td>\n",
       "      <td>exon</td>\n",
       "      <td>12613</td>\n",
       "      <td>12721</td>\n",
       "      <td>.</td>\n",
       "      <td>+</td>\n",
       "      <td>.</td>\n",
       "      <td>gene_id \"ENSG00000223972.5\"; transcript_id \"EN...</td>\n",
       "    </tr>\n",
       "    <tr>\n",
       "      <th>4</th>\n",
       "      <td>chr1</td>\n",
       "      <td>HAVANA</td>\n",
       "      <td>exon</td>\n",
       "      <td>13221</td>\n",
       "      <td>14409</td>\n",
       "      <td>.</td>\n",
       "      <td>+</td>\n",
       "      <td>.</td>\n",
       "      <td>gene_id \"ENSG00000223972.5\"; transcript_id \"EN...</td>\n",
       "    </tr>\n",
       "  </tbody>\n",
       "</table>\n",
       "</div>"
      ],
      "text/plain": [
       "      0       1           2      3      4  5  6  7  \\\n",
       "0  chr1  HAVANA        gene  11869  14409  .  +  .   \n",
       "1  chr1  HAVANA  transcript  11869  14409  .  +  .   \n",
       "2  chr1  HAVANA        exon  11869  12227  .  +  .   \n",
       "3  chr1  HAVANA        exon  12613  12721  .  +  .   \n",
       "4  chr1  HAVANA        exon  13221  14409  .  +  .   \n",
       "\n",
       "                                                   8  \n",
       "0  gene_id \"ENSG00000223972.5\"; gene_type \"transc...  \n",
       "1  gene_id \"ENSG00000223972.5\"; transcript_id \"EN...  \n",
       "2  gene_id \"ENSG00000223972.5\"; transcript_id \"EN...  \n",
       "3  gene_id \"ENSG00000223972.5\"; transcript_id \"EN...  \n",
       "4  gene_id \"ENSG00000223972.5\"; transcript_id \"EN...  "
      ]
     },
     "execution_count": 4,
     "metadata": {},
     "output_type": "execute_result"
    }
   ],
   "source": [
    "gene_annotation.head()"
   ]
  },
  {
   "cell_type": "code",
   "execution_count": 5,
   "metadata": {},
   "outputs": [],
   "source": [
    "gene_annotation.drop([0,1,3,4,5,6,7],axis=1,inplace=True)"
   ]
  },
  {
   "cell_type": "code",
   "execution_count": 6,
   "metadata": {},
   "outputs": [
    {
     "data": {
      "text/html": [
       "<div>\n",
       "<style scoped>\n",
       "    .dataframe tbody tr th:only-of-type {\n",
       "        vertical-align: middle;\n",
       "    }\n",
       "\n",
       "    .dataframe tbody tr th {\n",
       "        vertical-align: top;\n",
       "    }\n",
       "\n",
       "    .dataframe thead th {\n",
       "        text-align: right;\n",
       "    }\n",
       "</style>\n",
       "<table border=\"1\" class=\"dataframe\">\n",
       "  <thead>\n",
       "    <tr style=\"text-align: right;\">\n",
       "      <th></th>\n",
       "      <th>type</th>\n",
       "      <th>split</th>\n",
       "    </tr>\n",
       "  </thead>\n",
       "  <tbody>\n",
       "    <tr>\n",
       "      <th>0</th>\n",
       "      <td>gene</td>\n",
       "      <td>gene_id \"ENSG00000223972.5\"; gene_type \"transc...</td>\n",
       "    </tr>\n",
       "    <tr>\n",
       "      <th>1</th>\n",
       "      <td>transcript</td>\n",
       "      <td>gene_id \"ENSG00000223972.5\"; transcript_id \"EN...</td>\n",
       "    </tr>\n",
       "    <tr>\n",
       "      <th>2</th>\n",
       "      <td>exon</td>\n",
       "      <td>gene_id \"ENSG00000223972.5\"; transcript_id \"EN...</td>\n",
       "    </tr>\n",
       "    <tr>\n",
       "      <th>3</th>\n",
       "      <td>exon</td>\n",
       "      <td>gene_id \"ENSG00000223972.5\"; transcript_id \"EN...</td>\n",
       "    </tr>\n",
       "    <tr>\n",
       "      <th>4</th>\n",
       "      <td>exon</td>\n",
       "      <td>gene_id \"ENSG00000223972.5\"; transcript_id \"EN...</td>\n",
       "    </tr>\n",
       "  </tbody>\n",
       "</table>\n",
       "</div>"
      ],
      "text/plain": [
       "         type                                              split\n",
       "0        gene  gene_id \"ENSG00000223972.5\"; gene_type \"transc...\n",
       "1  transcript  gene_id \"ENSG00000223972.5\"; transcript_id \"EN...\n",
       "2        exon  gene_id \"ENSG00000223972.5\"; transcript_id \"EN...\n",
       "3        exon  gene_id \"ENSG00000223972.5\"; transcript_id \"EN...\n",
       "4        exon  gene_id \"ENSG00000223972.5\"; transcript_id \"EN..."
      ]
     },
     "execution_count": 6,
     "metadata": {},
     "output_type": "execute_result"
    }
   ],
   "source": [
    "gene_annotation.columns = ['type', 'split']\n",
    "gene_annotation.head()"
   ]
  },
  {
   "cell_type": "code",
   "execution_count": null,
   "metadata": {},
   "outputs": [],
   "source": [
    "def mapfunc(line):\n",
    "    gene_id = []\n",
    "    gene_name = []\n",
    "    gene_type = []\n",
    "    line = [x.strip(\" \") for x in line.split(\";\")]\n",
    "    for i in line:\n",
    "        i = i.split(\" \")\n",
    "        if len(i) == 2 and i[0] == \"gene_id\":\n",
    "            gene_id.append(i[1])\n",
    "        if len(i) == 2 and i[0] == \"gene_name\":\n",
    "            gene_name.append(i[1])\n",
    "        if len(i) == 2 and i[0] == \"gene_type\":\n",
    "            gene_type.append(i[1])\n",
    "    gene_type_df = pd.DataFrame(gene_type, columns=[\"gene_type\"])\n",
    "    gene_id_df = pd.DataFrame(gene_id, columns=[\"gene_id\"])\n",
    "    gene_name_df = pd.DataFrame(gene_name, columns=[\"gene_name\"])\n",
    "    df1 = pd.concat([gene_name_df, gene_type_df, gene_id_df], axis=1)\n",
    "    return df1\n",
    "\n",
    "gene_annotation[\"split\"].apply(mapfunc)"
   ]
  },
  {
   "cell_type": "code",
   "execution_count": null,
   "metadata": {},
   "outputs": [],
   "source": []
  }
 ],
 "metadata": {
  "kernelspec": {
   "display_name": "Python 3",
   "language": "python",
   "name": "python3"
  },
  "language_info": {
   "codemirror_mode": {
    "name": "ipython",
    "version": 3
   },
   "file_extension": ".py",
   "mimetype": "text/x-python",
   "name": "python",
   "nbconvert_exporter": "python",
   "pygments_lexer": "ipython3",
   "version": "3.7.7"
  }
 },
 "nbformat": 4,
 "nbformat_minor": 4
}
